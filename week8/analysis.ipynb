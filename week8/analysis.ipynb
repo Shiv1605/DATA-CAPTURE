{
 "cells": [
  {
   "cell_type": "code",
   "execution_count": 1,
   "metadata": {},
   "outputs": [],
   "source": [
    "import pandas as pd\n",
    "import plotly.graph_objs as go\n",
    "from plotly.subplots import make_subplots\n",
    "from dash import Dash, dcc, html\n",
    "from dash.dependencies import Input, Output\n",
    "import time\n",
    "\n"
   ]
  },
  {
   "cell_type": "code",
   "execution_count": 9,
   "metadata": {},
   "outputs": [],
   "source": [
    "# Load CSV files\n",
    "accel_x = pd.read_csv('Thing-Accelerometer_X.csv')\n",
    "accel_y = pd.read_csv('Thing-Accelerometer_Y.csv')\n",
    "accel_z = pd.read_csv('Thing-Accelerometer_Z.csv')\n",
    "gps = pd.read_csv('Thing-Gps.csv')\n",
    "\n",
    "\n"
   ]
  },
  {
   "cell_type": "code",
   "execution_count": 10,
   "metadata": {},
   "outputs": [],
   "source": [
    "# Initialize app\n",
    "app = Dash(__name__)\n",
    "\n",
    "# Layout of the dashboard\n",
    "app.layout = html.Div([\n",
    "    dcc.Graph(id='accelerometer-graph'),\n",
    "    dcc.Interval(id='interval-component', interval=1*1000, n_intervals=0)  # Update every second\n",
    "])\n",
    "\n"
   ]
  },
  {
   "cell_type": "code",
   "execution_count": 22,
   "metadata": {},
   "outputs": [],
   "source": [
    "import pandas as pd\n",
    "import plotly.graph_objs as go\n",
    "from plotly.subplots import make_subplots\n",
    "import plotly.io as pio\n",
    "\n",
    "# Use browser to render the plot if notebook rendering is not working\n",
    "pio.renderers.default = 'browser'\n",
    "\n",
    "# Load CSV files\n",
    "accel_x = pd.read_csv('Thing-Accelerometer_X.csv')\n",
    "accel_y = pd.read_csv('Thing-Accelerometer_Y.csv')\n",
    "accel_z = pd.read_csv('Thing-Accelerometer_Z.csv')\n",
    "\n",
    "# Define a plot with 4 subplots (one for each visual)\n",
    "fig = make_subplots(rows=2, cols=2, subplot_titles=(\"X-Axis Acceleration\", \"Y-Axis Acceleration\", \n",
    "                                                    \"Z-Axis Acceleration\", \"Combined XYZ Acceleration\"))\n",
    "\n",
    "# Plotting Accelerometer X-Axis Data\n",
    "fig.add_trace(go.Scatter(x=accel_x['time'], y=accel_x['value'], mode='lines', name='X-Axis'), row=1, col=1)\n",
    "\n",
    "# Plotting Accelerometer Y-Axis Data\n",
    "fig.add_trace(go.Scatter(x=accel_y['time'], y=accel_y['value'], mode='lines', name='Y-Axis'), row=1, col=2)\n",
    "\n",
    "# Plotting Accelerometer Z-Axis Data\n",
    "fig.add_trace(go.Scatter(x=accel_z['time'], y=accel_z['value'], mode='lines', name='Z-Axis'), row=2, col=1)\n",
    "\n",
    "# Combined Plot of X, Y, and Z Axes\n",
    "fig.add_trace(go.Scatter(x=accel_x['time'], y=accel_x['value'], mode='lines', name='X-Axis'), row=2, col=2)\n",
    "fig.add_trace(go.Scatter(x=accel_y['time'], y=accel_y['value'], mode='lines', name='Y-Axis'), row=2, col=2)\n",
    "fig.add_trace(go.Scatter(x=accel_z['time'], y=accel_z['value'], mode='lines', name='Z-Axis'), row=2, col=2)\n",
    "\n",
    "# Update layout for better visualization\n",
    "fig.update_layout(title='Accelerometer Data Visuals',\n",
    "                  xaxis_title='Time', yaxis_title='Acceleration',\n",
    "                  showlegend=True, height=800, width=1200)\n",
    "\n",
    "# Show the plot\n",
    "fig.show()\n"
   ]
  }
 ],
 "metadata": {
  "kernelspec": {
   "display_name": "Python 3 (ipykernel)",
   "language": "python",
   "name": "python3"
  },
  "language_info": {
   "codemirror_mode": {
    "name": "ipython",
    "version": 3
   },
   "file_extension": ".py",
   "mimetype": "text/x-python",
   "name": "python",
   "nbconvert_exporter": "python",
   "pygments_lexer": "ipython3",
   "version": "3.11.7"
  }
 },
 "nbformat": 4,
 "nbformat_minor": 4
}
